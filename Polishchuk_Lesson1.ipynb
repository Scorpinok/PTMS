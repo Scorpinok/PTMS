{
 "cells": [
  {
   "cell_type": "code",
   "execution_count": 2,
   "metadata": {},
   "outputs": [],
   "source": [
    "#Урок 1. Случайные события. Условная вероятность. Формула Байеса. Независимые испытания"
   ]
  },
  {
   "cell_type": "code",
   "execution_count": 15,
   "metadata": {},
   "outputs": [],
   "source": [
    "import numpy as np\n",
    "\n",
    "def combinations(n: int, k: int) -> int:\n",
    "    \"\"\"Число сочетаний.\n",
    "    \"\"\"\n",
    "    \n",
    "    return np.math.factorial(n) // (np.math.factorial(k) * np.math.factorial(n - k))\n",
    "\n",
    "def permutations(n: int) -> int:\n",
    "    \"\"\"Число перестановок.\n",
    "    \"\"\"\n",
    "    \n",
    "    return np.math.factorial(n)"
   ]
  },
  {
   "cell_type": "code",
   "execution_count": 9,
   "metadata": {},
   "outputs": [],
   "source": [
    "# Задача 1\n",
    "# Из колоды в 52 карты вынимают случайным образом 4 карты. Найти число исходов, \n",
    "# соответствующих тому, что был вытянут хотя бы один туз."
   ]
  },
  {
   "cell_type": "raw",
   "metadata": {},
   "source": [
    "#Решение:\n",
    "#Ситуация из колоды вытягивается один туз, это означает, что этот 1 туз вытянули из множества, содержащего 4 туза, остальные 3 #карты вытягиваются из множества содержащего оставшиеся 48 карт (52 - 4туза)\n",
    "\n",
    "#Число способов достать 1 туз из четырёх:"
   ]
  },
  {
   "cell_type": "code",
   "execution_count": 10,
   "metadata": {},
   "outputs": [
    {
     "data": {
      "text/plain": [
       "4"
      ]
     },
     "execution_count": 10,
     "metadata": {},
     "output_type": "execute_result"
    }
   ],
   "source": [
    "one_tuz = combinations(4, 1)\n",
    "one_tuz"
   ]
  },
  {
   "cell_type": "code",
   "execution_count": 13,
   "metadata": {},
   "outputs": [
    {
     "data": {
      "text/plain": [
       "17296"
      ]
     },
     "execution_count": 13,
     "metadata": {},
     "output_type": "execute_result"
    }
   ],
   "source": [
    "# вытягиваем 3 карты из оставшихся 48\n",
    "other_cards = combinations(48, 3)\n",
    "other_cards"
   ]
  },
  {
   "cell_type": "code",
   "execution_count": 14,
   "metadata": {},
   "outputs": [
    {
     "data": {
      "text/plain": [
       "69184"
      ]
     },
     "execution_count": 14,
     "metadata": {},
     "output_type": "execute_result"
    }
   ],
   "source": [
    "# число исходов, что был вытянут хотя бы один туз из 4х карт, вытянутых из 52\n",
    "res = one_tuz * other_cards\n",
    "res"
   ]
  },
  {
   "cell_type": "code",
   "execution_count": 4,
   "metadata": {},
   "outputs": [],
   "source": [
    "# Задача 2\n",
    "# Семь человек рассаживаются наудачу на скамейке. Какова вероятность того, что рядом будут сидеть:\n",
    "# а) два определённых человека?\n",
    "# б) три определённых человека?"
   ]
  },
  {
   "cell_type": "code",
   "execution_count": null,
   "metadata": {},
   "outputs": [],
   "source": [
    "#Решение:\n",
    "#В каждой выборке важен состав, т.е. в случае:\n",
    "#    а) сочетание из 7 элементов по 2 элемента\n",
    "#    б) сочетание из 7 элементов по 3 элемента\n",
    "    \n",
    "#Определяем сколько способов сесть на скамейку для 7 человек, для случаев а) и б)"
   ]
  },
  {
   "cell_type": "code",
   "execution_count": 23,
   "metadata": {},
   "outputs": [
    {
     "data": {
      "text/plain": [
       "21"
      ]
     },
     "execution_count": 23,
     "metadata": {},
     "output_type": "execute_result"
    }
   ],
   "source": [
    "# случай а) определяем общее число исходов наступления события, что рядом будут сидеть 2 определенных человека\n",
    "seven_comb_two = combinations(7, 2)\n",
    "seven_comb_two"
   ]
  },
  {
   "cell_type": "code",
   "execution_count": 35,
   "metadata": {},
   "outputs": [
    {
     "name": "stdout",
     "output_type": "stream",
     "text": [
      "Вероятность события а: 5%\n"
     ]
    }
   ],
   "source": [
    "# определим вероятность, того что хотя бы один из исходов случится (случай а)), все исходы независимы и равновероятны\n",
    "res_a = 1 / seven_comb_two\n",
    "print(f'Вероятность события а: {round(res_a * 100)}%')"
   ]
  },
  {
   "cell_type": "code",
   "execution_count": 38,
   "metadata": {},
   "outputs": [
    {
     "data": {
      "text/plain": [
       "35"
      ]
     },
     "execution_count": 38,
     "metadata": {},
     "output_type": "execute_result"
    }
   ],
   "source": [
    "# случай б) определяем общее число исходов наступления события, что рядом будут сидеть 3 определенных человека\n",
    "seven_comb_three = combinations(7, 3)\n",
    "seven_comb_three"
   ]
  },
  {
   "cell_type": "code",
   "execution_count": 40,
   "metadata": {},
   "outputs": [
    {
     "name": "stdout",
     "output_type": "stream",
     "text": [
      "Вероятность события b: 3%\n"
     ]
    }
   ],
   "source": [
    "# определим вероятность, того что хотя бы один из исходов случится (случай б)), все исходы независимы и равновероятны\n",
    "res_b = 1 / seven_comb_three\n",
    "print(f'Вероятность события b: {round(res_b * 100)}%')"
   ]
  },
  {
   "cell_type": "code",
   "execution_count": 5,
   "metadata": {},
   "outputs": [],
   "source": [
    "# Задача 3\n",
    "# Из 60 вопросов, входящих в экзаменационные билеты, студент знает 50. \n",
    "# Какова вероятность того, что среди трёх наугад выбранных вопросов студент знает: а) все? б) два?"
   ]
  },
  {
   "cell_type": "code",
   "execution_count": null,
   "metadata": {},
   "outputs": [],
   "source": [
    "#Решение:\n",
    "#    Сначала определим что все 3 билета известны студенту:"
   ]
  },
  {
   "cell_type": "code",
   "execution_count": 47,
   "metadata": {},
   "outputs": [
    {
     "data": {
      "text/plain": [
       "19600"
      ]
     },
     "execution_count": 47,
     "metadata": {},
     "output_type": "execute_result"
    }
   ],
   "source": [
    "# вытягиваем 3 билета из 50\n",
    "three_from_fifty = combinations(50, 3)\n",
    "three_from_fifty"
   ]
  },
  {
   "cell_type": "code",
   "execution_count": 48,
   "metadata": {},
   "outputs": [
    {
     "data": {
      "text/plain": [
       "34220"
      ]
     },
     "execution_count": 48,
     "metadata": {},
     "output_type": "execute_result"
    }
   ],
   "source": [
    "# вытягиваем 3 билета из 60\n",
    "three_from_sixty = combinations(60, 3)\n",
    "three_from_sixty"
   ]
  },
  {
   "cell_type": "code",
   "execution_count": 57,
   "metadata": {},
   "outputs": [
    {
     "name": "stdout",
     "output_type": "stream",
     "text": [
      "Вероятность, что все три билета студент знает: 57%\n"
     ]
    }
   ],
   "source": [
    "#вероятность того, что все три билета студент знает\n",
    "all_known = three_from_fifty / three_from_sixty\n",
    "print(f'Вероятность, что все три билета студент знает: {round(all_known * 100)}%')"
   ]
  },
  {
   "cell_type": "code",
   "execution_count": 52,
   "metadata": {},
   "outputs": [
    {
     "data": {
      "text/plain": [
       "1225"
      ]
     },
     "execution_count": 52,
     "metadata": {},
     "output_type": "execute_result"
    }
   ],
   "source": [
    "# теперь определим что студент знает только два из трех\n",
    "\n",
    "#вытягиваем 2 билета из 50\n",
    "two_from_fifty = combinations(50, 2)\n",
    "two_from_fifty"
   ]
  },
  {
   "cell_type": "code",
   "execution_count": 54,
   "metadata": {},
   "outputs": [
    {
     "data": {
      "text/plain": [
       "10"
      ]
     },
     "execution_count": 54,
     "metadata": {},
     "output_type": "execute_result"
    }
   ],
   "source": [
    "# вытягиваем 1 билет из 10\n",
    "one_from_ten = combinations(10, 1)\n",
    "one_from_ten"
   ]
  },
  {
   "cell_type": "code",
   "execution_count": 56,
   "metadata": {},
   "outputs": [
    {
     "name": "stdout",
     "output_type": "stream",
     "text": [
      "Вероятность, что два билета студент знает: 36%\n"
     ]
    }
   ],
   "source": [
    "# вытягиваем 1 неизвестный и 2 известных из 60\n",
    "two_known = (one_from_ten * two_from_fifty)  / three_from_sixty\n",
    "print(f'Вероятность, что два билета студент знает: {round(two_known * 100)}%')"
   ]
  },
  {
   "cell_type": "code",
   "execution_count": null,
   "metadata": {},
   "outputs": [],
   "source": [
    "# Задача 4\n",
    "# Бросается игральная кость. Пусть событие A - появление чётного числа, \n",
    "# событие B - появление числа больше трёх. Являются ли эти события независимыми?"
   ]
  },
  {
   "cell_type": "code",
   "execution_count": 88,
   "metadata": {},
   "outputs": [
    {
     "data": {
      "text/plain": [
       "20"
      ]
     },
     "execution_count": 88,
     "metadata": {},
     "output_type": "execute_result"
    }
   ],
   "source": [
    "#Решение:\n",
    "#Для события А\n",
    "#Игральная кость имеет шесть граней три из которых четные, а три нечетные, определим вероятность выпадения четного числа\n",
    "# количество исходов для 3 граней из 6\n",
    "three_from_six_A = combinations(6, 3)\n",
    "three_from_six_A"
   ]
  },
  {
   "cell_type": "code",
   "execution_count": 89,
   "metadata": {},
   "outputs": [
    {
     "data": {
      "text/plain": [
       "3"
      ]
     },
     "execution_count": 89,
     "metadata": {},
     "output_type": "execute_result"
    }
   ],
   "source": [
    "# количество исходов для 1 грани из трех\n",
    "one_from_six_A = combinations(3, 1)\n",
    "one_from_six_A"
   ]
  },
  {
   "cell_type": "code",
   "execution_count": 90,
   "metadata": {},
   "outputs": [
    {
     "name": "stdout",
     "output_type": "stream",
     "text": [
      "Вероятность выпадения четного числа P(А): 15%\n"
     ]
    }
   ],
   "source": [
    "# вероятность P(A), того что грань будет четной - событие A\n",
    "even = one_from_six_A / three_from_six_A\n",
    "print(f'Вероятность выпадения четного числа P(А): {round(even * 100)}%')"
   ]
  },
  {
   "cell_type": "code",
   "execution_count": 91,
   "metadata": {},
   "outputs": [
    {
     "data": {
      "text/plain": [
       "20"
      ]
     },
     "execution_count": 91,
     "metadata": {},
     "output_type": "execute_result"
    }
   ],
   "source": [
    "#Для события В\n",
    "#Игральная кость имеет шесть граней - чисел, три из которых больше числа 3, определим вероятность выпадения числа больше 3\n",
    "# количество исходов для 3 чисел из 6\n",
    "three_from_six_B = combinations(6, 3)\n",
    "three_from_six_B"
   ]
  },
  {
   "cell_type": "code",
   "execution_count": 92,
   "metadata": {},
   "outputs": [
    {
     "data": {
      "text/plain": [
       "3"
      ]
     },
     "execution_count": 92,
     "metadata": {},
     "output_type": "execute_result"
    }
   ],
   "source": [
    "# количество исходов для 1 числа из трех\n",
    "one_from_six_B = combinations(3, 1)\n",
    "one_from_six_B"
   ]
  },
  {
   "cell_type": "code",
   "execution_count": 93,
   "metadata": {},
   "outputs": [
    {
     "name": "stdout",
     "output_type": "stream",
     "text": [
      "Вероятность выпадения числа больше трех P(B): 15%\n"
     ]
    }
   ],
   "source": [
    "# вероятность P(B), того что число будет больше трех - событие B\n",
    "more_than_three = one_from_six_B / three_from_six_B\n",
    "print(f'Вероятность выпадения числа больше трех P(B): {round(more_than_three * 100)}%')"
   ]
  },
  {
   "cell_type": "code",
   "execution_count": 94,
   "metadata": {},
   "outputs": [
    {
     "name": "stdout",
     "output_type": "stream",
     "text": [
      "P(AB): 2%\n"
     ]
    }
   ],
   "source": [
    "# определим совместную вероятность P(AB), что число и четное и больше трех\n",
    "p_ab = more_than_three * even\n",
    "print(f'P(AB): {round(p_ab * 100)}%')"
   ]
  },
  {
   "cell_type": "code",
   "execution_count": 95,
   "metadata": {},
   "outputs": [
    {
     "name": "stdout",
     "output_type": "stream",
     "text": [
      "P(A|B): 15%\n"
     ]
    }
   ],
   "source": [
    "# определим отношение совместной вероятности P(AB), к вероятности события B\n",
    "p_a_b = p_ab / more_than_three\n",
    "print(f'P(A|B): {round(p_a_b * 100)}%')"
   ]
  },
  {
   "cell_type": "code",
   "execution_count": 97,
   "metadata": {},
   "outputs": [],
   "source": [
    "# Так как P(A|B) = P(A), заключаем, что события независимы"
   ]
  },
  {
   "cell_type": "code",
   "execution_count": null,
   "metadata": {},
   "outputs": [],
   "source": [
    "# Задача 5\n",
    "# Допустим, имеется некоторая очень редкая болезнь (поражает 0.1% населения).\n",
    "# Вы приходите к врачу, вам делают тест на эту болезнь, и тест оказывается положительным. \n",
    "# Врач говорит вам, что этот тест верно выявляет 99% больных этой болезнью и всего лишь \n",
    "# в 1% случаев даёт ложный положительный ответ.\n",
    "# Вопрос: какова вероятность, что вы действительно больны ей?\n",
    "\n",
    "# Подсказка: вновь используйте формулу Байеса с раскрытием знаменателя с помощью формулы полной вероятности."
   ]
  },
  {
   "cell_type": "code",
   "execution_count": null,
   "metadata": {},
   "outputs": [],
   "source": [
    "#Решение:\n",
    "#   Вероятность правильного определения P_а = 0,99\n",
    "#   Вероятность не правильного определения P_b = 0,01\n",
    "    \n",
    "#   Вероятность что больной P_h1 = 0,99 (по результатам теста)\n",
    "\n",
    "#Совместая вероятность, что больной и правильно определили:\n",
    "#    P_a_h1 = P_а * P_h1 = 0,99 * 0,99\n",
    "\n",
    "#Совместая вероятность, что больной и не правильно определили:\n",
    "#    P_b_h1 = P_b * P_h1 = 0,01 * 0,99\n",
    "\n",
    "#Полная вероятность, что больной (событие А)\n",
    "# P_A = P_a_h1 + P_b_h1\n",
    "\n",
    "#Формула Байеса\n",
    "#res_p = (P_h1 * P_a_h1)/P_A\n"
   ]
  },
  {
   "cell_type": "code",
   "execution_count": 111,
   "metadata": {},
   "outputs": [
    {
     "name": "stdout",
     "output_type": "stream",
     "text": [
      "P(h1|A): 98%\n"
     ]
    }
   ],
   "source": [
    "P_а = 0.99\n",
    "P_b = 0.01\n",
    "\n",
    "P_h1 = 0.99\n",
    "\n",
    "P_a_h1 = P_а * P_h1 \n",
    "P_b_h1 = P_b * P_h1\n",
    "\n",
    "P_A = P_a_h1 + P_b_h1\n",
    "\n",
    "res_p = (P_h1 * P_a_h1)/P_A\n",
    "print(f'P(h1|A): {round(res_p * 100)}%')\n"
   ]
  },
  {
   "cell_type": "code",
   "execution_count": null,
   "metadata": {},
   "outputs": [],
   "source": []
  }
 ],
 "metadata": {
  "kernelspec": {
   "display_name": "Python 3",
   "language": "python",
   "name": "python3"
  },
  "language_info": {
   "codemirror_mode": {
    "name": "ipython",
    "version": 3
   },
   "file_extension": ".py",
   "mimetype": "text/x-python",
   "name": "python",
   "nbconvert_exporter": "python",
   "pygments_lexer": "ipython3",
   "version": "3.7.6"
  }
 },
 "nbformat": 4,
 "nbformat_minor": 4
}
